{
 "cells": [
  {
   "cell_type": "code",
   "execution_count": null,
   "metadata": {},
   "outputs": [],
   "source": [
    "#Existen mas pintores que pintaras, en que porcentaje"
   ]
  },
  {
   "cell_type": "code",
   "execution_count": 2,
   "metadata": {},
   "outputs": [],
   "source": [
    "import numpy as np\n",
    "import pandas as pd"
   ]
  },
  {
   "cell_type": "code",
   "execution_count": 132,
   "metadata": {},
   "outputs": [],
   "source": [
    "artista = pd.read_csv('artists.csv')\n",
    "obras= pd.read_csv('artworks.csv')"
   ]
  },
  {
   "cell_type": "code",
   "execution_count": 115,
   "metadata": {},
   "outputs": [
    {
     "name": "stdout",
     "output_type": "stream",
     "text": [
      "<class 'pandas.core.frame.DataFrame'>\n",
      "RangeIndex: 130262 entries, 0 to 130261\n",
      "Data columns (total 21 columns):\n",
      "Artwork ID            130262 non-null int64\n",
      "Title                 130210 non-null object\n",
      "Artist ID             128802 non-null object\n",
      "Name                  128802 non-null object\n",
      "Date                  127950 non-null object\n",
      "Medium                118343 non-null object\n",
      "Dimensions            118799 non-null object\n",
      "Acquisition Date      124799 non-null object\n",
      "Credit                127192 non-null object\n",
      "Catalogue             130262 non-null object\n",
      "Department            130262 non-null object\n",
      "Classification        130262 non-null object\n",
      "Object Number         130262 non-null object\n",
      "Diameter (cm)         1399 non-null float64\n",
      "Circumference (cm)    10 non-null float64\n",
      "Height (cm)           111893 non-null float64\n",
      "Length (cm)           736 non-null float64\n",
      "Width (cm)            111003 non-null float64\n",
      "Depth (cm)            11443 non-null float64\n",
      "Weight (kg)           298 non-null float64\n",
      "Duration (s)          3084 non-null float64\n",
      "dtypes: float64(8), int64(1), object(12)\n",
      "memory usage: 20.9+ MB\n"
     ]
    }
   ],
   "source": [
    "obras.info()\n"
   ]
  },
  {
   "cell_type": "code",
   "execution_count": 103,
   "metadata": {},
   "outputs": [
    {
     "name": "stdout",
     "output_type": "stream",
     "text": [
      "<class 'pandas.core.frame.DataFrame'>\n",
      "RangeIndex: 15091 entries, 0 to 15090\n",
      "Data columns (total 6 columns):\n",
      "Artist ID      15091 non-null int64\n",
      "Name           15091 non-null object\n",
      "Nationality    12603 non-null object\n",
      "Gender         12019 non-null object\n",
      "Birth Year     11237 non-null float64\n",
      "Death Year     4579 non-null float64\n",
      "dtypes: float64(2), int64(1), object(3)\n",
      "memory usage: 707.5+ KB\n"
     ]
    }
   ],
   "source": [
    "artista.info()"
   ]
  },
  {
   "cell_type": "code",
   "execution_count": 6,
   "metadata": {},
   "outputs": [
    {
     "data": {
      "text/plain": [
       "Male      9820\n",
       "Female    2193\n",
       "male         6\n",
       "Name: Gender, dtype: int64"
      ]
     },
     "execution_count": 6,
     "metadata": {},
     "output_type": "execute_result"
    }
   ],
   "source": [
    "artista[\"Gender\"].value_counts()"
   ]
  },
  {
   "cell_type": "code",
   "execution_count": 7,
   "metadata": {},
   "outputs": [],
   "source": [
    "\n",
    "artista['Gender'] = artista['Gender'].str.replace('male', 'Male')\n",
    "artista['Gender'] = artista['Gender'].str.replace('FeMale', 'Female')\n",
    "artista['Gender'] = artista['Gender'].fillna('Unknown')"
   ]
  },
  {
   "cell_type": "code",
   "execution_count": 8,
   "metadata": {},
   "outputs": [
    {
     "data": {
      "text/plain": [
       "Male       9826\n",
       "Unknown    3072\n",
       "Female     2193\n",
       "Name: Gender, dtype: int64"
      ]
     },
     "execution_count": 8,
     "metadata": {},
     "output_type": "execute_result"
    }
   ],
   "source": [
    "artista[\"Gender\"].value_counts()"
   ]
  },
  {
   "cell_type": "code",
   "execution_count": 33,
   "metadata": {},
   "outputs": [
    {
     "data": {
      "text/html": [
       "<div>\n",
       "<style scoped>\n",
       "    .dataframe tbody tr th:only-of-type {\n",
       "        vertical-align: middle;\n",
       "    }\n",
       "\n",
       "    .dataframe tbody tr th {\n",
       "        vertical-align: top;\n",
       "    }\n",
       "\n",
       "    .dataframe thead th {\n",
       "        text-align: right;\n",
       "    }\n",
       "</style>\n",
       "<table border=\"1\" class=\"dataframe\">\n",
       "  <thead>\n",
       "    <tr style=\"text-align: right;\">\n",
       "      <th></th>\n",
       "      <th>%Gender_authors</th>\n",
       "    </tr>\n",
       "  </thead>\n",
       "  <tbody>\n",
       "    <tr>\n",
       "      <th>Female</th>\n",
       "      <td>14.53</td>\n",
       "    </tr>\n",
       "    <tr>\n",
       "      <th>Male</th>\n",
       "      <td>65.11</td>\n",
       "    </tr>\n",
       "    <tr>\n",
       "      <th>Unknown</th>\n",
       "      <td>20.36</td>\n",
       "    </tr>\n",
       "  </tbody>\n",
       "</table>\n",
       "</div>"
      ],
      "text/plain": [
       "        %Gender_authors\n",
       "Female            14.53\n",
       "Male              65.11\n",
       "Unknown           20.36"
      ]
     },
     "execution_count": 33,
     "metadata": {},
     "output_type": "execute_result"
    }
   ],
   "source": [
    "Unknown=(artista[(artista[\"Gender\"]==\"Unknown\")][\"Gender\"].value_counts()/len(artista[\"Gender\"])*100)\n",
    "Unknown=\"% .2f\" %Unknown[0]\n",
    "Male=(artista[(artista[\"Gender\"]==\"Male\")][\"Gender\"].value_counts()/len(artista[\"Gender\"])*100)\n",
    "Male=\"% .2f\"%Male[0]\n",
    "Female=(artista[(artista[\"Gender\"]==\"Female\")][\"Gender\"].value_counts()/len(artista[\"Gender\"])*100)\n",
    "Female=\"% .2f\"%Female[0]\n",
    "porcentaje= {\"Unknown\":[Unknown],\"Male\":[Male],\"Female\":[Female]}\n",
    "Total=pd.DataFrame(data=porcentaje).T\n",
    "Total2=Total.rename(columns={0:'%Gender_authors'})\n",
    "Total2\n",
    "\n"
   ]
  },
  {
   "cell_type": "code",
   "execution_count": 47,
   "metadata": {},
   "outputs": [],
   "source": [
    "GenderList = [x for x in artista[\"Gender\"] if str(x) != 'Unknown']"
   ]
  },
  {
   "cell_type": "code",
   "execution_count": 48,
   "metadata": {},
   "outputs": [],
   "source": [
    "z = pd.DataFrame(GenderList)"
   ]
  },
  {
   "cell_type": "code",
   "execution_count": 65,
   "metadata": {},
   "outputs": [
    {
     "data": {
      "text/html": [
       "<div>\n",
       "<style scoped>\n",
       "    .dataframe tbody tr th:only-of-type {\n",
       "        vertical-align: middle;\n",
       "    }\n",
       "\n",
       "    .dataframe tbody tr th {\n",
       "        vertical-align: top;\n",
       "    }\n",
       "\n",
       "    .dataframe thead th {\n",
       "        text-align: right;\n",
       "    }\n",
       "</style>\n",
       "<table border=\"1\" class=\"dataframe\">\n",
       "  <thead>\n",
       "    <tr style=\"text-align: right;\">\n",
       "      <th></th>\n",
       "      <th>%Gender_authors</th>\n",
       "    </tr>\n",
       "  </thead>\n",
       "  <tbody>\n",
       "    <tr>\n",
       "      <th>Female</th>\n",
       "      <td>18.25</td>\n",
       "    </tr>\n",
       "    <tr>\n",
       "      <th>Male</th>\n",
       "      <td>81.75</td>\n",
       "    </tr>\n",
       "  </tbody>\n",
       "</table>\n",
       "</div>"
      ],
      "text/plain": [
       "       %Gender_authors\n",
       "Female           18.25\n",
       "Male             81.75"
      ]
     },
     "execution_count": 65,
     "metadata": {},
     "output_type": "execute_result"
    }
   ],
   "source": [
    "Malez=(z[(z[0]==\"Male\")][0].value_counts()/len(z[0])*100)\n",
    "Malez=\"% .2f\"%Malez[0]\n",
    "Femalez=(z[(z[0]==\"Female\")][0].value_counts()/len(z[0])*100)\n",
    "Femalez=\"% .2f\"%Femalez[0]\n",
    "porcentajez= {\"Male\":[Malez],\"Female\":[Femalez]}\n",
    "Totalz=pd.DataFrame(data=porcentajez).T\n",
    "Total2z=Totalz.rename(columns={0:'%Gender_authors'})\n",
    "Total2z\n"
   ]
  },
  {
   "cell_type": "code",
   "execution_count": null,
   "metadata": {},
   "outputs": [],
   "source": [
    "obras['Artist ID'] = artista['Artist ID'].fillna(0)\n",
    "\n",
    "\n",
    "obras[[\"Artist ID\",\"Title\"]]\n",
    "\n"
   ]
  },
  {
   "cell_type": "code",
   "execution_count": null,
   "metadata": {},
   "outputs": [],
   "source": [
    "artista"
   ]
  },
  {
   "cell_type": "code",
   "execution_count": 2,
   "metadata": {},
   "outputs": [
    {
     "ename": "NameError",
     "evalue": "name 'pd' is not defined",
     "output_type": "error",
     "traceback": [
      "\u001b[0;31m---------------------------------------------------------------------------\u001b[0m",
      "\u001b[0;31mNameError\u001b[0m                                 Traceback (most recent call last)",
      "\u001b[0;32m<ipython-input-2-f3c4d9297c71>\u001b[0m in \u001b[0;36m<module>\u001b[0;34m\u001b[0m\n\u001b[0;32m----> 1\u001b[0;31m \u001b[0mmoma\u001b[0m \u001b[0;34m=\u001b[0m \u001b[0mpd\u001b[0m\u001b[0;34m.\u001b[0m\u001b[0mmerge\u001b[0m\u001b[0;34m(\u001b[0m\u001b[0martista\u001b[0m\u001b[0;34m,\u001b[0m \u001b[0mobras\u001b[0m \u001b[0;34m,\u001b[0m \u001b[0mon\u001b[0m\u001b[0;34m=\u001b[0m\u001b[0;34m\"Artist ID\"\u001b[0m\u001b[0;34m)\u001b[0m\u001b[0;34m\u001b[0m\u001b[0m\n\u001b[0m",
      "\u001b[0;31mNameError\u001b[0m: name 'pd' is not defined"
     ]
    }
   ],
   "source": []
  },
  {
   "cell_type": "code",
   "execution_count": 1,
   "metadata": {},
   "outputs": [
    {
     "ename": "NameError",
     "evalue": "name 'moma' is not defined",
     "output_type": "error",
     "traceback": [
      "\u001b[0;31m---------------------------------------------------------------------------\u001b[0m",
      "\u001b[0;31mNameError\u001b[0m                                 Traceback (most recent call last)",
      "\u001b[0;32m<ipython-input-1-8cd7f7f5f631>\u001b[0m in \u001b[0;36m<module>\u001b[0;34m\u001b[0m\n\u001b[0;32m----> 1\u001b[0;31m \u001b[0mmoma\u001b[0m\u001b[0;34m\u001b[0m\u001b[0m\n\u001b[0m",
      "\u001b[0;31mNameError\u001b[0m: name 'moma' is not defined"
     ]
    }
   ],
   "source": [
    "moma"
   ]
  },
  {
   "cell_type": "code",
   "execution_count": null,
   "metadata": {},
   "outputs": [],
   "source": []
  }
 ],
 "metadata": {
  "kernelspec": {
   "display_name": "Python 3",
   "language": "python",
   "name": "python3"
  },
  "language_info": {
   "codemirror_mode": {
    "name": "ipython",
    "version": 3
   },
   "file_extension": ".py",
   "mimetype": "text/x-python",
   "name": "python",
   "nbconvert_exporter": "python",
   "pygments_lexer": "ipython3",
   "version": "3.5.2"
  }
 },
 "nbformat": 4,
 "nbformat_minor": 2
}
