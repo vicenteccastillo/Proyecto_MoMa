{
 "cells": [
  {
   "cell_type": "markdown",
   "metadata": {},
   "source": [
    "![alt text](29984_guerrilla-girls.jpg \"Title\")"
   ]
  },
  {
   "cell_type": "markdown",
   "metadata": {},
   "source": [
    "El presente trabajo tratará de poner en vigencia una de las principales reinvidicaciones que realizaron y que siguen ejerciendo el colectivo Guerrilla Girl.\n",
    "\n",
    "Este colectivo (https://www.guerrillagirls.com/) surgió en 1985 en respuesta a una exposición que se realizó en el MoMa, en la cual se presentó una exposición con los artistas mas importantes del siglo XX y no participaba ninguna mujer."
   ]
  },
  {
   "cell_type": "markdown",
   "metadata": {},
   "source": [
    "![alt text](mujeresmuseo.jpeg \"mujeres museo\")"
   ]
  },
  {
   "cell_type": "markdown",
   "metadata": {},
   "source": [
    "Una de las reinvindicaciones por las cuales surgió y que perdura en la actualidad es el bajo número de mujeres artistas que se encuentran en los museos.\n",
    "En este trabajo se va a intentar verificar si las reinvindicación de que solamente un 5% de las artistas en el MoMa son mujeres y si esta lucha por parte de este colectivo ha tenido una influencia en el mundo de los museos de arte.\n",
    "Por ello en un primer momento tomaremos desde la base de datos del museo, los  artistas y obras que se encuentran en su catálogo, en esto es bueno señalar que en exposición se suele tener un número de obras pero en los almacenes \n"
   ]
  },
  {
   "cell_type": "code",
   "execution_count": 1,
   "metadata": {},
   "outputs": [],
   "source": [
    "import numpy as np\n",
    "import pandas as pd\n",
    "import matplotlib.pyplot as plt\n",
    "import seaborn as sns\n",
    "import re \n",
    "\n",
    "color = sns.color_palette()\n",
    "\n",
    "%matplotlib inline"
   ]
  },
  {
   "cell_type": "code",
   "execution_count": 2,
   "metadata": {},
   "outputs": [],
   "source": [
    "#funciones para abrir los documentos\n",
    "def abrirdoc(nombre,csv):\n",
    "    nombre = pd.read_csv(csv)\n",
    "    return nombre"
   ]
  },
  {
   "cell_type": "code",
   "execution_count": 3,
   "metadata": {},
   "outputs": [],
   "source": [
    "artista = abrirdoc(\"artista\",'artists.csv')\n",
    "obras= abrirdoc(\"obras\",'artworks.csv')"
   ]
  },
  {
   "cell_type": "code",
   "execution_count": 4,
   "metadata": {},
   "outputs": [],
   "source": [
    "#renombramos las columnas que posteriormente nos pueden dar fallo.\n",
    "def rename(df,col1,coln):\n",
    "    df=df.rename(columns={col1:coln})\n",
    "    return df\n",
    "\n"
   ]
  },
  {
   "cell_type": "code",
   "execution_count": 5,
   "metadata": {},
   "outputs": [],
   "source": [
    "#usando la función cambiamos el nombre a la columna \"Artist ID\"\n",
    "obras = rename(obras,\"Artist ID\",'Artist_ID')\n",
    "artista = rename(artista,\"Artist ID\",'Artist_ID')"
   ]
  },
  {
   "cell_type": "code",
   "execution_count": 6,
   "metadata": {},
   "outputs": [
    {
     "name": "stdout",
     "output_type": "stream",
     "text": [
      "<class 'pandas.core.frame.DataFrame'>\n",
      "RangeIndex: 15091 entries, 0 to 15090\n",
      "Data columns (total 6 columns):\n",
      "Artist_ID      15091 non-null int64\n",
      "Name           15091 non-null object\n",
      "Nationality    12603 non-null object\n",
      "Gender         12019 non-null object\n",
      "Birth Year     11237 non-null float64\n",
      "Death Year     4579 non-null float64\n",
      "dtypes: float64(2), int64(1), object(3)\n",
      "memory usage: 707.5+ KB\n",
      "None\n",
      "<class 'pandas.core.frame.DataFrame'>\n",
      "RangeIndex: 130262 entries, 0 to 130261\n",
      "Data columns (total 21 columns):\n",
      "Artwork ID            130262 non-null int64\n",
      "Title                 130210 non-null object\n",
      "Artist_ID             128802 non-null object\n",
      "Name                  128802 non-null object\n",
      "Date                  127950 non-null object\n",
      "Medium                118343 non-null object\n",
      "Dimensions            118799 non-null object\n",
      "Acquisition Date      124799 non-null object\n",
      "Credit                127192 non-null object\n",
      "Catalogue             130262 non-null object\n",
      "Department            130262 non-null object\n",
      "Classification        130262 non-null object\n",
      "Object Number         130262 non-null object\n",
      "Diameter (cm)         1399 non-null float64\n",
      "Circumference (cm)    10 non-null float64\n",
      "Height (cm)           111893 non-null float64\n",
      "Length (cm)           736 non-null float64\n",
      "Width (cm)            111003 non-null float64\n",
      "Depth (cm)            11443 non-null float64\n",
      "Weight (kg)           298 non-null float64\n",
      "Duration (s)          3084 non-null float64\n",
      "dtypes: float64(8), int64(1), object(12)\n",
      "memory usage: 20.9+ MB\n",
      "None\n"
     ]
    }
   ],
   "source": [
    "#vemos como es la informacion \n",
    "print(artista.info())\n",
    "print(obras.info())"
   ]
  },
  {
   "cell_type": "code",
   "execution_count": 7,
   "metadata": {},
   "outputs": [],
   "source": [
    "#limpiamos la variable Artist_ID \n",
    "def limpiaArtisobras(obras):\n",
    "    obras['Artist_ID'] = obras['Artist_ID'].fillna(0)\n",
    "    lista=[]\n",
    "    for a in obras['Artist_ID']:\n",
    "        if len(list(str(a).split(','))) >= 2:\n",
    "            lista.append(0)\n",
    "        else:\n",
    "            lista.append(a)\n",
    "    obras=obras.assign(Artist_ID=lista)\n",
    "    obras['Artist_ID'] = obras[\"Artist_ID\"].astype(int)\n",
    "    return obras"
   ]
  },
  {
   "cell_type": "code",
   "execution_count": 8,
   "metadata": {},
   "outputs": [],
   "source": [
    "#la aplicamos a la base de datos de obras\n",
    "obras = limpiaArtisobras(obras)"
   ]
  },
  {
   "cell_type": "code",
   "execution_count": 9,
   "metadata": {},
   "outputs": [],
   "source": [
    "#unimos las bases de datos mediante la columna que seleccionemos\n",
    "def merge(nombre,primerdf,segundodf,columna):\n",
    "    nombre = pd.merge(primerdf, segundodf, on=columna,how='inner')\n",
    "    return nombre"
   ]
  },
  {
   "cell_type": "code",
   "execution_count": 10,
   "metadata": {},
   "outputs": [],
   "source": [
    "#unimos las bases de datos artista y obras en la nueva base \"moma\" mediante la columna \"Artist_ID\"\n",
    "moma = merge(\"moma\",artista,obras,'Artist_ID')"
   ]
  },
  {
   "cell_type": "code",
   "execution_count": 11,
   "metadata": {},
   "outputs": [],
   "source": [
    "#limpiamos variable genero y calculamos % del genero de los artistas\n",
    "def Genero_autores(moma):\n",
    "    moma['Gender'] = moma['Gender'].str.replace('male', 'Male')\n",
    "    moma['Gender'] = moma['Gender'].str.replace('FeMale', 'Female')\n",
    "    moma['Gender'] = moma['Gender'].fillna('Unknown')\n",
    "    Unknown=(moma[(moma[\"Gender\"]==\"Unknown\")][\"Gender\"].value_counts()/len(moma[\"Gender\"])*100)\n",
    "    Unknown=\"% .2f\" %Unknown[0]\n",
    "    Male=(moma[(moma[\"Gender\"]==\"Male\")][\"Gender\"].value_counts()/len(moma[\"Gender\"])*100)\n",
    "    Male=\"% .2f\"%Male[0]\n",
    "    Female=(moma[(moma[\"Gender\"]==\"Female\")][\"Gender\"].value_counts()/len(moma[\"Gender\"])*100)\n",
    "    Female=\"% .2f\"%Female[0]\n",
    "    porcentaje= {\"Unknown\":[Unknown],\"Male\":[Male],\"Female\":[Female]}\n",
    "    Total=pd.DataFrame(data=porcentaje,).T\n",
    "    Total2=Total.rename(columns={0:'%Gender_authors'})\n",
    "    return Total2"
   ]
  },
  {
   "cell_type": "code",
   "execution_count": 12,
   "metadata": {},
   "outputs": [
    {
     "data": {
      "text/html": [
       "<div>\n",
       "<style scoped>\n",
       "    .dataframe tbody tr th:only-of-type {\n",
       "        vertical-align: middle;\n",
       "    }\n",
       "\n",
       "    .dataframe tbody tr th {\n",
       "        vertical-align: top;\n",
       "    }\n",
       "\n",
       "    .dataframe thead th {\n",
       "        text-align: right;\n",
       "    }\n",
       "</style>\n",
       "<table border=\"1\" class=\"dataframe\">\n",
       "  <thead>\n",
       "    <tr style=\"text-align: right;\">\n",
       "      <th></th>\n",
       "      <th>%Gender_authors</th>\n",
       "    </tr>\n",
       "  </thead>\n",
       "  <tbody>\n",
       "    <tr>\n",
       "      <th>Female</th>\n",
       "      <td>13.23</td>\n",
       "    </tr>\n",
       "    <tr>\n",
       "      <th>Male</th>\n",
       "      <td>81.70</td>\n",
       "    </tr>\n",
       "    <tr>\n",
       "      <th>Unknown</th>\n",
       "      <td>5.06</td>\n",
       "    </tr>\n",
       "  </tbody>\n",
       "</table>\n",
       "</div>"
      ],
      "text/plain": [
       "        %Gender_authors\n",
       "Female            13.23\n",
       "Male              81.70\n",
       "Unknown            5.06"
      ]
     },
     "execution_count": 12,
     "metadata": {},
     "output_type": "execute_result"
    }
   ],
   "source": [
    "Genero_autores(moma)"
   ]
  },
  {
   "cell_type": "code",
   "execution_count": 13,
   "metadata": {},
   "outputs": [],
   "source": [
    "#ahora sin contabilizar los desconocidos\n",
    "def genero_autoressindesc(moma):\n",
    "    GenderList = [x for x in moma[\"Gender\"] if str(x) != 'Unknown']\n",
    "    z = pd.DataFrame(GenderList)\n",
    "    Malez=(z[(z[0]==\"Male\")][0].value_counts()/len(z[0])*100)\n",
    "    Malez=\"% .2f\"%Malez[0]\n",
    "    Femalez=(z[(z[0]==\"Female\")][0].value_counts()/len(z[0])*100)\n",
    "    Femalez=\"% .2f\"%Femalez[0]\n",
    "    porcentajez= {\"Male\":[Malez],\"Female\":[Femalez]}\n",
    "    Totalz=pd.DataFrame(data=porcentajez).T\n",
    "    Total2z=Totalz.rename(columns={0:'%Gender_authors'})\n",
    "    return Total2z"
   ]
  },
  {
   "cell_type": "code",
   "execution_count": 14,
   "metadata": {},
   "outputs": [
    {
     "data": {
      "text/html": [
       "<div>\n",
       "<style scoped>\n",
       "    .dataframe tbody tr th:only-of-type {\n",
       "        vertical-align: middle;\n",
       "    }\n",
       "\n",
       "    .dataframe tbody tr th {\n",
       "        vertical-align: top;\n",
       "    }\n",
       "\n",
       "    .dataframe thead th {\n",
       "        text-align: right;\n",
       "    }\n",
       "</style>\n",
       "<table border=\"1\" class=\"dataframe\">\n",
       "  <thead>\n",
       "    <tr style=\"text-align: right;\">\n",
       "      <th></th>\n",
       "      <th>%Gender_authors</th>\n",
       "    </tr>\n",
       "  </thead>\n",
       "  <tbody>\n",
       "    <tr>\n",
       "      <th>Female</th>\n",
       "      <td>13.94</td>\n",
       "    </tr>\n",
       "    <tr>\n",
       "      <th>Male</th>\n",
       "      <td>86.06</td>\n",
       "    </tr>\n",
       "  </tbody>\n",
       "</table>\n",
       "</div>"
      ],
      "text/plain": [
       "       %Gender_authors\n",
       "Female           13.94\n",
       "Male             86.06"
      ]
     },
     "execution_count": 14,
     "metadata": {},
     "output_type": "execute_result"
    }
   ],
   "source": [
    "genero_autoressindesc(moma)"
   ]
  },
  {
   "cell_type": "code",
   "execution_count": 15,
   "metadata": {},
   "outputs": [
    {
     "data": {
      "image/png": "[encoded data removed]",
      "text/plain": [
       "<Figure size 720x576 with 1 Axes>"
      ]
     },
     "metadata": {
      "needs_background": "light"
     },
     "output_type": "display_data"
    }
   ],
   "source": [
    "def plot_val_counts(df,column='Name_x',figsize=(10,8),title=None):\n",
    "    counts = df[column].value_counts()[:20]\n",
    "    plt.figure(figsize=figsize)\n",
    "    sns.barplot(counts.values,counts.index)\n",
    "    plt.xlabel(column)\n",
    "    plt.xlabel('Number of artworks')\n",
    "    plt.xticks(rotation=0)\n",
    "    plt.title(title)\n",
    "    plt.show()\n",
    "\n",
    "plot_val_counts(moma,title='Top 20 artistas con mas numero de obras en el MoMa')"
   ]
  },
  {
   "cell_type": "code",
   "execution_count": 34,
   "metadata": {},
   "outputs": [
    {
     "name": "stdout",
     "output_type": "stream",
     "text": [
      "Louise Bourgeois             3318\n",
      "Lilly Reich                   823\n",
      "Dorothea Lange                488\n",
      "Anni Albers                   197\n",
      "Aleksandra Mir                175\n",
      "Kiki Smith                    162\n",
      "Frances Benjamin Johnston     158\n",
      "Lauretta Vinciarelli          124\n",
      "Natalia Goncharova            116\n",
      "Sherrie Levine                103\n",
      "Cindy Sherman                 103\n",
      "Ilse Bing                     101\n",
      "Elizabeth Murray               98\n",
      "Mieko Shiomi                   97\n",
      "Rosemarie Trockel              96\n",
      "Doris Ulmann                   95\n",
      "Helen Levitt                   89\n",
      "Fiona Banner                   89\n",
      "Gertrude Käsebier              87\n",
      "Ree Morton                     84\n",
      "Ellen Gallagher                83\n",
      "Diane Arbus                    83\n",
      "Kara Walker                    82\n",
      "VALIE EXPORT                   79\n",
      "Jan Groover                    79\n",
      "Louise Nevelson                78\n",
      "Berenice Abbott                76\n",
      "Rachel Harrison                75\n",
      "Judith Joy Ross                74\n",
      "Eva Zeisel                     74\n",
      "                             ... \n",
      "Jennifer Moon                   1\n",
      "Pepi Weixlgartner               1\n",
      "Lolita Zikmane                  1\n",
      "Anne Ramsden                    1\n",
      "Emma Justine Farnsworth         1\n",
      "Julia Seyr                      1\n",
      "Moyra Davey                     1\n",
      "Kunié Sugiura                   1\n",
      "Luba Lukova                     1\n",
      "Kathy Acker                     1\n",
      "Ohmae Hiroshi                   1\n",
      "Fatih Aydogdu                   1\n",
      "Jean Locey                      1\n",
      "J. Edith Wise                   1\n",
      "Ella Bergmann-Michel            1\n",
      "Yong Soon Min                   1\n",
      "Mary Beams                      1\n",
      "Gae Aulenti                     1\n",
      "Raquel Rabinovich               1\n",
      "Hansi Durlach                   1\n",
      "Dolores Dembus Bittleman        1\n",
      "Jean Cohen                      1\n",
      "Mariana Yampolsky               1\n",
      "Giselle Baillie                 1\n",
      "Kirsten Kraa                    1\n",
      "Ray Eames                       1\n",
      "Florencia de Amesti             1\n",
      "Stephanie Taylor                1\n",
      "Mariette Lydis                  1\n",
      "Kate Steinitz                   1\n",
      "Name: Name_x, Length: 1828, dtype: int64\n"
     ]
    }
   ],
   "source": [
    "#funcion para conocer los artistas por el género\n",
    "def obrasartista(Genero):\n",
    "    obrasgenero= moma[moma['Gender'] == Genero]\n",
    "    return (obrasgenero.Name_x.value_counts())\n",
    "\n",
    "print(obrasartista(\"Female\"))\n",
    "\n"
   ]
  },
  {
   "cell_type": "code",
   "execution_count": 17,
   "metadata": {},
   "outputs": [
    {
     "name": "stdout",
     "output_type": "stream",
     "text": [
      "Louise Bourgeois                  3318\n",
      "Ludwig Mies van der Rohe          2566\n",
      "Lee Friedlander                   1317\n",
      "Frank Lloyd Wright                 799\n",
      "George Maciunas                    762\n",
      "Ben Kinmont                        597\n",
      "Sol LeWitt                         557\n",
      "Dorothea Lange                     488\n",
      "Jasper Johns                       412\n",
      "Jim Dine                           401\n",
      "Walker Evans                       361\n",
      "Garry Winogrand                    359\n",
      "Jules Pascin                       350\n",
      "Robert Rauschenberg                336\n",
      "Josef Albers                       291\n",
      "Ansel Adams                        290\n",
      "Edward Steichen                    289\n",
      "Robert Motherwell                  267\n",
      "Leonard Baskin                     263\n",
      "Edward Weston                      260\n",
      "Antonio Frasconi                   257\n",
      "Andy Warhol                        247\n",
      "Ellsworth Kelly                    247\n",
      "Harry Callahan                     247\n",
      "Robert Frank                       234\n",
      "Edward Ruscha                      228\n",
      "Raymond Pettibon                   228\n",
      "Lyonel Feininger                   224\n",
      "William Eggleston                  219\n",
      "Robert Watts                       217\n",
      "                                  ... \n",
      "Joseph Norman                        1\n",
      "Manu Prakash                         1\n",
      "Lloyd de Mause                       1\n",
      "Nina Bovasso                         1\n",
      "Howard Sochurek                      1\n",
      "Mario Dyyon                          1\n",
      "Todd Phillips                        1\n",
      "Don Ornitz                           1\n",
      "Terrence Malick                      1\n",
      "Anthony Ingolia                      1\n",
      "Karl Brown                           1\n",
      "Sidney Shapiro                       1\n",
      "Christine Osinski                    1\n",
      "Jeanne Silverthorne                  1\n",
      "José Urbach                          1\n",
      "Douglas Schwartz                     1\n",
      "Bing Wright                          1\n",
      "Ida O'Keeffe                         1\n",
      "De Wain Valentine                    1\n",
      "Mary Peck                            1\n",
      "Sidney Jack Hurwitz                  1\n",
      "John Milisenda                       1\n",
      "Shannon Plumb                        1\n",
      "Roger Welch                          1\n",
      "P. Scott Makela                      1\n",
      "Deborah Gottheil Nehmad              1\n",
      "Gits Molding Corp.                   1\n",
      "Vic Delucia/The New York Times       1\n",
      "Linda Lynch                          1\n",
      "Richard Lester                       1\n",
      "Name: Name_x, Length: 4442, dtype: int64\n"
     ]
    }
   ],
   "source": [
    "#funcion para conocer nacionalidad con mas obras\n",
    "def nacionalidadartista(nacionalidad):\n",
    "    obrasgenero= moma[moma['Nationality'] == nacionalidad]\n",
    "    return (obrasgenero.Name_x.value_counts())\n",
    "print(nacionalidadartista(\"American\"))"
   ]
  },
  {
   "cell_type": "code",
   "execution_count": 18,
   "metadata": {},
   "outputs": [],
   "source": [
    "#funcion para conocer por genero y nacionalidad \n",
    "def gennacartista(Genero,nacionalidad):\n",
    "    obrasgenero= moma[(moma['Gender'] == Genero) & (moma['Nationality'] == nacionalidad)] \n",
    "   \n",
    "    return (obrasgenero.Name_x.value_counts())"
   ]
  },
  {
   "cell_type": "code",
   "execution_count": 19,
   "metadata": {},
   "outputs": [
    {
     "data": {
      "text/plain": [
       "Pablo Picasso                     1310\n",
       "Joan Miró                          462\n",
       "Francisco de Goya                  181\n",
       "Antoni Tàpies                      170\n",
       "Antonio Saura                      114\n",
       "Salvador Dalí                       77\n",
       "Juan Gris                           59\n",
       "Juan Hidalgo                        55\n",
       "Fernando Martín Menis               33\n",
       "Eduardo Chillida                    30\n",
       "Rafael Canogar                      29\n",
       "Julio González                      27\n",
       "Luis Buñuel                         22\n",
       "Juan Uslé                           21\n",
       "Pablo Palazuelo                     20\n",
       "Pedro Almodóvar                     18\n",
       "Ricardo Bofill                      16\n",
       "Ernesto Caivano                     15\n",
       "Vincente Rojo                       14\n",
       "Manolo (Manuel Martínez Hugué)      13\n",
       "Antonio Muntadas                    13\n",
       "Rafael Alberti                      12\n",
       "Manuel Angeles Ortiz                10\n",
       "José Pla-Narbona                     9\n",
       "Chema Cobo                           9\n",
       "Zush (Alberto Porta)                 8\n",
       "Marcel Giró                          8\n",
       "Joan Fontcuberta                     7\n",
       "Victor Mira                          7\n",
       "Javier Vilato                        6\n",
       "Name: Name_x, dtype: int64"
      ]
     },
     "execution_count": 19,
     "metadata": {},
     "output_type": "execute_result"
    }
   ],
   "source": [
    "#lista de hombres españoles en el MoMa\n",
    "gennacartista(\"Male\",\"Spanish\")[:30]"
   ]
  },
  {
   "cell_type": "code",
   "execution_count": 20,
   "metadata": {},
   "outputs": [
    {
     "data": {
      "text/plain": [
       "Cristina Iglesias    9\n",
       "Susana Solano        8\n",
       "Teresa Moro          5\n",
       "Elena del Rivero     3\n",
       "Ester Partegàs       3\n",
       "Patricia Urquiola    2\n",
       "Carme Pinos          1\n",
       "America Sanchez      1\n",
       "Riba Rovira          1\n",
       "Victoria Gil         1\n",
       "Oliva Perotes        1\n",
       "Name: Name_x, dtype: int64"
      ]
     },
     "execution_count": 20,
     "metadata": {},
     "output_type": "execute_result"
    }
   ],
   "source": [
    "#lista de mujeres españolas en el MoMa\n",
    "gennacartista(\"Female\",\"Spanish\")[:30]"
   ]
  },
  {
   "cell_type": "markdown",
   "metadata": {},
   "source": [
    "**REPERCUSIÓN DEL MOVIMIENTO**"
   ]
  },
  {
   "cell_type": "code",
   "execution_count": 21,
   "metadata": {},
   "outputs": [],
   "source": [
    "#Limpieza de los nulos\n",
    "def limpiezadate(moma,columna):\n",
    "    moma[columna]= moma[columna].fillna(\"0\")\n",
    "    return moma\n",
    "    "
   ]
  },
  {
   "cell_type": "code",
   "execution_count": 22,
   "metadata": {},
   "outputs": [],
   "source": [
    "#Se quitan los nulos \n",
    "moma= limpiezadate(moma,'Acquisition Date')\n"
   ]
  },
  {
   "cell_type": "code",
   "execution_count": 23,
   "metadata": {},
   "outputs": [],
   "source": [
    "#Expresión regular para homogeneizar el año\n",
    "def nuevaadquisicion(Acquisition_Date):\n",
    "    new_acquisition= re.sub(\"\\-+\\d*\",\"\",Acquisition_Date)\n",
    "    return new_acquisition"
   ]
  },
  {
   "cell_type": "code",
   "execution_count": 24,
   "metadata": {},
   "outputs": [],
   "source": [
    "#Se aplica la expresión \n",
    "moma['Acquisition Date']= moma[\"Acquisition Date\"].apply(nuevaadquisicion)"
   ]
  },
  {
   "cell_type": "code",
   "execution_count": 25,
   "metadata": {},
   "outputs": [],
   "source": [
    "#Se cambia el tipo para poder categorizar\n",
    "moma[\"Acquisition Date\"] = moma[\"Acquisition Date\"].astype(int)"
   ]
  },
  {
   "cell_type": "code",
   "execution_count": 26,
   "metadata": {},
   "outputs": [],
   "source": [
    "#Se crea la función para poder categorizar\n",
    "def categorizacion():\n",
    "    etiquetas= ['desconocido','preguerrilla','postguerrilla']\n",
    "    cortes = [-1,1925,1985,2019]\n",
    "    moma['Acquisition_Datenew'] = pd.cut(moma['Acquisition Date'],cortes, labels=etiquetas)\n",
    "    return moma['Acquisition_Datenew']"
   ]
  },
  {
   "cell_type": "code",
   "execution_count": 27,
   "metadata": {},
   "outputs": [],
   "source": [
    "#Categorizamos la columna de fecha de adquisición, entre 1925 que fue cuando se abrió el museo \n",
    "#y 1985 que surgió Guerrilla Girl\n",
    "moma['Acquisition_Datenew']= categorizacion()"
   ]
  },
  {
   "cell_type": "code",
   "execution_count": 28,
   "metadata": {},
   "outputs": [],
   "source": [
    "#creamos la función para verificar según la fecha\n",
    "def impactoguerrilla(periodo):\n",
    "    generoperiodo= moma[moma['Acquisition_Datenew'] == periodo]\n",
    "    tab=genero_autoressindesc(generoperiodo)\n",
    "    return tab\n",
    "        "
   ]
  },
  {
   "cell_type": "code",
   "execution_count": 29,
   "metadata": {},
   "outputs": [
    {
     "data": {
      "text/html": [
       "<div>\n",
       "<style scoped>\n",
       "    .dataframe tbody tr th:only-of-type {\n",
       "        vertical-align: middle;\n",
       "    }\n",
       "\n",
       "    .dataframe tbody tr th {\n",
       "        vertical-align: top;\n",
       "    }\n",
       "\n",
       "    .dataframe thead th {\n",
       "        text-align: right;\n",
       "    }\n",
       "</style>\n",
       "<table border=\"1\" class=\"dataframe\">\n",
       "  <thead>\n",
       "    <tr style=\"text-align: right;\">\n",
       "      <th></th>\n",
       "      <th>%Gender_authors</th>\n",
       "    </tr>\n",
       "  </thead>\n",
       "  <tbody>\n",
       "    <tr>\n",
       "      <th>Female</th>\n",
       "      <td>6.48</td>\n",
       "    </tr>\n",
       "    <tr>\n",
       "      <th>Male</th>\n",
       "      <td>93.52</td>\n",
       "    </tr>\n",
       "  </tbody>\n",
       "</table>\n",
       "</div>"
      ],
      "text/plain": [
       "       %Gender_authors\n",
       "Female            6.48\n",
       "Male             93.52"
      ]
     },
     "execution_count": 29,
     "metadata": {},
     "output_type": "execute_result"
    }
   ],
   "source": [
    "#tabla con el periodo desde que se creó el museo hasta 1985\n",
    "impactoguerrilla(\"preguerrilla\")"
   ]
  },
  {
   "cell_type": "code",
   "execution_count": 30,
   "metadata": {},
   "outputs": [
    {
     "data": {
      "text/html": [
       "<div>\n",
       "<style scoped>\n",
       "    .dataframe tbody tr th:only-of-type {\n",
       "        vertical-align: middle;\n",
       "    }\n",
       "\n",
       "    .dataframe tbody tr th {\n",
       "        vertical-align: top;\n",
       "    }\n",
       "\n",
       "    .dataframe thead th {\n",
       "        text-align: right;\n",
       "    }\n",
       "</style>\n",
       "<table border=\"1\" class=\"dataframe\">\n",
       "  <thead>\n",
       "    <tr style=\"text-align: right;\">\n",
       "      <th></th>\n",
       "      <th>%Gender_authors</th>\n",
       "    </tr>\n",
       "  </thead>\n",
       "  <tbody>\n",
       "    <tr>\n",
       "      <th>Female</th>\n",
       "      <td>22.43</td>\n",
       "    </tr>\n",
       "    <tr>\n",
       "      <th>Male</th>\n",
       "      <td>77.57</td>\n",
       "    </tr>\n",
       "  </tbody>\n",
       "</table>\n",
       "</div>"
      ],
      "text/plain": [
       "       %Gender_authors\n",
       "Female           22.43\n",
       "Male             77.57"
      ]
     },
     "execution_count": 30,
     "metadata": {},
     "output_type": "execute_result"
    }
   ],
   "source": [
    "#tabla desde 1985 hasta la actualidad \n",
    "impactoguerrilla(\"postguerrilla\")"
   ]
  },
  {
   "cell_type": "code",
   "execution_count": 31,
   "metadata": {},
   "outputs": [
    {
     "data": {
      "text/html": [
       "<div>\n",
       "<style scoped>\n",
       "    .dataframe tbody tr th:only-of-type {\n",
       "        vertical-align: middle;\n",
       "    }\n",
       "\n",
       "    .dataframe tbody tr th {\n",
       "        vertical-align: top;\n",
       "    }\n",
       "\n",
       "    .dataframe thead th {\n",
       "        text-align: right;\n",
       "    }\n",
       "</style>\n",
       "<table border=\"1\" class=\"dataframe\">\n",
       "  <thead>\n",
       "    <tr style=\"text-align: right;\">\n",
       "      <th></th>\n",
       "      <th>%Gender_authors</th>\n",
       "    </tr>\n",
       "  </thead>\n",
       "  <tbody>\n",
       "    <tr>\n",
       "      <th>Female</th>\n",
       "      <td>22.74</td>\n",
       "    </tr>\n",
       "    <tr>\n",
       "      <th>Male</th>\n",
       "      <td>77.26</td>\n",
       "    </tr>\n",
       "  </tbody>\n",
       "</table>\n",
       "</div>"
      ],
      "text/plain": [
       "       %Gender_authors\n",
       "Female           22.74\n",
       "Male             77.26"
      ]
     },
     "execution_count": 31,
     "metadata": {},
     "output_type": "execute_result"
    }
   ],
   "source": [
    "#tabla en el periodo que no están bien fechados  los datos\n",
    "impactoguerrilla(\"desconocido\")"
   ]
  },
  {
   "cell_type": "markdown",
   "metadata": {},
   "source": [
    "**Con este estudio podemos ver como desde 1985 ha habido una mayor presencia en la colección del MoMa de artistas mujeres, siendo uno de los principales motivos el movimiento de las Guerrilla Girls**"
   ]
  },
  {
   "cell_type": "markdown",
   "metadata": {},
   "source": [
    "![alt text](mascarascalle.jpeg \"mujeres museo\")"
   ]
  },
  {
   "cell_type": "markdown",
   "metadata": {},
   "source": [
    "![alt text](asd.jpg \"ads\")"
   ]
  },
  {
   "cell_type": "code",
   "execution_count": null,
   "metadata": {},
   "outputs": [],
   "source": []
  }
 ],
 "metadata": {
  "kernelspec": {
   "display_name": "Python 3",
   "language": "python",
   "name": "python3"
  },
  "language_info": {
   "codemirror_mode": {
    "name": "ipython",
    "version": 3
   },
   "file_extension": ".py",
   "mimetype": "text/x-python",
   "name": "python",
   "nbconvert_exporter": "python",
   "pygments_lexer": "ipython3",
   "version": "3.5.2"
  }
 },
 "nbformat": 4,
 "nbformat_minor": 2
}
